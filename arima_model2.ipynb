{
  "nbformat": 4,
  "nbformat_minor": 0,
  "metadata": {
    "colab": {
      "name": "arima_model2.ipynb",
      "provenance": []
    },
    "kernelspec": {
      "name": "python3",
      "display_name": "Python 3"
    },
    "language_info": {
      "name": "python"
    }
  },
  "cells": [
    {
      "cell_type": "code",
      "execution_count": null,
      "metadata": {
        "colab": {
          "base_uri": "https://localhost:8080/"
        },
        "id": "U87nc-pIMmcB",
        "outputId": "5d283b3a-9a49-4854-b72b-8a83890bed59"
      },
      "outputs": [
        {
          "output_type": "stream",
          "name": "stdout",
          "text": [
            "Looking in indexes: https://pypi.org/simple, https://us-python.pkg.dev/colab-wheels/public/simple/\n",
            "Collecting pmdarima\n",
            "  Downloading pmdarima-1.8.5-cp37-cp37m-manylinux_2_17_x86_64.manylinux2014_x86_64.manylinux_2_24_x86_64.whl (1.4 MB)\n",
            "\u001b[K     |████████████████████████████████| 1.4 MB 4.3 MB/s \n",
            "\u001b[?25hRequirement already satisfied: setuptools!=50.0.0,>=38.6.0 in /usr/local/lib/python3.7/dist-packages (from pmdarima) (57.4.0)\n",
            "Requirement already satisfied: scikit-learn>=0.22 in /usr/local/lib/python3.7/dist-packages (from pmdarima) (1.0.2)\n",
            "Requirement already satisfied: joblib>=0.11 in /usr/local/lib/python3.7/dist-packages (from pmdarima) (1.1.0)\n",
            "Requirement already satisfied: Cython!=0.29.18,>=0.29 in /usr/local/lib/python3.7/dist-packages (from pmdarima) (0.29.30)\n",
            "Requirement already satisfied: pandas>=0.19 in /usr/local/lib/python3.7/dist-packages (from pmdarima) (1.3.5)\n",
            "Requirement already satisfied: urllib3 in /usr/local/lib/python3.7/dist-packages (from pmdarima) (1.24.3)\n",
            "Requirement already satisfied: numpy>=1.19.3 in /usr/local/lib/python3.7/dist-packages (from pmdarima) (1.21.6)\n",
            "Requirement already satisfied: scipy>=1.3.2 in /usr/local/lib/python3.7/dist-packages (from pmdarima) (1.4.1)\n",
            "Collecting statsmodels!=0.12.0,>=0.11\n",
            "  Downloading statsmodels-0.13.2-cp37-cp37m-manylinux_2_17_x86_64.manylinux2014_x86_64.whl (9.8 MB)\n",
            "\u001b[K     |████████████████████████████████| 9.8 MB 44.3 MB/s \n",
            "\u001b[?25hRequirement already satisfied: python-dateutil>=2.7.3 in /usr/local/lib/python3.7/dist-packages (from pandas>=0.19->pmdarima) (2.8.2)\n",
            "Requirement already satisfied: pytz>=2017.3 in /usr/local/lib/python3.7/dist-packages (from pandas>=0.19->pmdarima) (2022.1)\n",
            "Requirement already satisfied: six>=1.5 in /usr/local/lib/python3.7/dist-packages (from python-dateutil>=2.7.3->pandas>=0.19->pmdarima) (1.15.0)\n",
            "Requirement already satisfied: threadpoolctl>=2.0.0 in /usr/local/lib/python3.7/dist-packages (from scikit-learn>=0.22->pmdarima) (3.1.0)\n",
            "Requirement already satisfied: patsy>=0.5.2 in /usr/local/lib/python3.7/dist-packages (from statsmodels!=0.12.0,>=0.11->pmdarima) (0.5.2)\n",
            "Requirement already satisfied: packaging>=21.3 in /usr/local/lib/python3.7/dist-packages (from statsmodels!=0.12.0,>=0.11->pmdarima) (21.3)\n",
            "Requirement already satisfied: pyparsing!=3.0.5,>=2.0.2 in /usr/local/lib/python3.7/dist-packages (from packaging>=21.3->statsmodels!=0.12.0,>=0.11->pmdarima) (3.0.9)\n",
            "Installing collected packages: statsmodels, pmdarima\n",
            "  Attempting uninstall: statsmodels\n",
            "    Found existing installation: statsmodels 0.10.2\n",
            "    Uninstalling statsmodels-0.10.2:\n",
            "      Successfully uninstalled statsmodels-0.10.2\n",
            "Successfully installed pmdarima-1.8.5 statsmodels-0.13.2\n"
          ]
        }
      ],
      "source": [
        "!pip install pmdarima\n"
      ]
    },
    {
      "cell_type": "code",
      "source": [
        "!pip install yfinance"
      ],
      "metadata": {
        "colab": {
          "base_uri": "https://localhost:8080/"
        },
        "id": "CqadhoFLMpFR",
        "outputId": "e7114f6f-6c48-41ff-f1c6-3fa7c9fbf20d"
      },
      "execution_count": null,
      "outputs": [
        {
          "output_type": "stream",
          "name": "stdout",
          "text": [
            "Looking in indexes: https://pypi.org/simple, https://us-python.pkg.dev/colab-wheels/public/simple/\n",
            "Collecting yfinance\n",
            "  Downloading yfinance-0.1.72-py2.py3-none-any.whl (27 kB)\n",
            "Collecting requests>=2.26\n",
            "  Downloading requests-2.28.0-py3-none-any.whl (62 kB)\n",
            "\u001b[K     |████████████████████████████████| 62 kB 1.2 MB/s \n",
            "\u001b[?25hRequirement already satisfied: numpy>=1.15 in /usr/local/lib/python3.7/dist-packages (from yfinance) (1.21.6)\n",
            "Requirement already satisfied: multitasking>=0.0.7 in /usr/local/lib/python3.7/dist-packages (from yfinance) (0.0.10)\n",
            "Requirement already satisfied: pandas>=0.24.0 in /usr/local/lib/python3.7/dist-packages (from yfinance) (1.3.5)\n",
            "Collecting lxml>=4.5.1\n",
            "  Downloading lxml-4.9.0-cp37-cp37m-manylinux_2_17_x86_64.manylinux2014_x86_64.manylinux_2_24_x86_64.whl (6.4 MB)\n",
            "\u001b[K     |████████████████████████████████| 6.4 MB 23.1 MB/s \n",
            "\u001b[?25hRequirement already satisfied: pytz>=2017.3 in /usr/local/lib/python3.7/dist-packages (from pandas>=0.24.0->yfinance) (2022.1)\n",
            "Requirement already satisfied: python-dateutil>=2.7.3 in /usr/local/lib/python3.7/dist-packages (from pandas>=0.24.0->yfinance) (2.8.2)\n",
            "Requirement already satisfied: six>=1.5 in /usr/local/lib/python3.7/dist-packages (from python-dateutil>=2.7.3->pandas>=0.24.0->yfinance) (1.15.0)\n",
            "Requirement already satisfied: charset-normalizer~=2.0.0 in /usr/local/lib/python3.7/dist-packages (from requests>=2.26->yfinance) (2.0.12)\n",
            "Requirement already satisfied: idna<4,>=2.5 in /usr/local/lib/python3.7/dist-packages (from requests>=2.26->yfinance) (2.10)\n",
            "Requirement already satisfied: urllib3<1.27,>=1.21.1 in /usr/local/lib/python3.7/dist-packages (from requests>=2.26->yfinance) (1.24.3)\n",
            "Requirement already satisfied: certifi>=2017.4.17 in /usr/local/lib/python3.7/dist-packages (from requests>=2.26->yfinance) (2022.6.15)\n",
            "Installing collected packages: requests, lxml, yfinance\n",
            "  Attempting uninstall: requests\n",
            "    Found existing installation: requests 2.23.0\n",
            "    Uninstalling requests-2.23.0:\n",
            "      Successfully uninstalled requests-2.23.0\n",
            "  Attempting uninstall: lxml\n",
            "    Found existing installation: lxml 4.2.6\n",
            "    Uninstalling lxml-4.2.6:\n",
            "      Successfully uninstalled lxml-4.2.6\n",
            "\u001b[31mERROR: pip's dependency resolver does not currently take into account all the packages that are installed. This behaviour is the source of the following dependency conflicts.\n",
            "google-colab 1.0.0 requires requests~=2.23.0, but you have requests 2.28.0 which is incompatible.\n",
            "datascience 0.10.6 requires folium==0.2.1, but you have folium 0.8.3 which is incompatible.\u001b[0m\n",
            "Successfully installed lxml-4.9.0 requests-2.28.0 yfinance-0.1.72\n"
          ]
        }
      ]
    },
    {
      "cell_type": "code",
      "source": [
        "import os\n",
        "import warnings\n",
        "warnings.filterwarnings('ignore')\n",
        "# import numpy as np\n",
        "import pandas as pd\n",
        "import matplotlib.pyplot as plt\n",
        "from statsmodels.tsa.stattools import adfuller\n",
        "from statsmodels.tsa.arima.model import ARIMA\n",
        "import pmdarima as pm\n",
        "# from sklearn.metrics import mean_squared_error, mean_absolute_error\n",
        "# import math\n",
        "import yfinance as yf\n",
        "import datetime as dt"
      ],
      "metadata": {
        "id": "Yp4sU7S0Mthx"
      },
      "execution_count": null,
      "outputs": []
    },
    {
      "cell_type": "code",
      "source": [
        "\n",
        "ticker = 'AAPL'\n",
        "\n",
        "#Define the start and end date for the historical data\n",
        "today = dt.datetime.now()\n",
        "start = dt.date(today.year-1, today.month-5, today.day-16)\n",
        "end = dt.date(today.year, today.month, today.day)\n",
        "\n",
        "#Fetch data using yfinance download function.\n",
        "df_close = yf.download(tickers=ticker, start=start, end=end, interval='1h',)[['Close']]\n",
        "\n",
        "df_close"
      ],
      "metadata": {
        "colab": {
          "base_uri": "https://localhost:8080/",
          "height": 442
        },
        "id": "saF0OknfMwrr",
        "outputId": "51be65be-08a2-4c20-9cf1-b68c2e3bda9a"
      },
      "execution_count": null,
      "outputs": [
        {
          "output_type": "stream",
          "name": "stdout",
          "text": [
            "\r[*********************100%***********************]  1 of 1 completed\n"
          ]
        },
        {
          "output_type": "execute_result",
          "data": {
            "text/plain": [
              "                                Close\n",
              "2021-01-08 09:30:00-05:00  130.380005\n",
              "2021-01-08 10:30:00-05:00  131.070007\n",
              "2021-01-08 11:30:00-05:00  132.154999\n",
              "2021-01-08 12:30:00-05:00  131.115005\n",
              "2021-01-08 13:30:00-05:00  131.475006\n",
              "...                               ...\n",
              "2022-06-23 11:30:00-04:00  136.789993\n",
              "2022-06-23 12:30:00-04:00  136.429993\n",
              "2022-06-23 13:30:00-04:00  137.299896\n",
              "2022-06-23 14:30:00-04:00  137.899994\n",
              "2022-06-23 15:30:00-04:00  138.250000\n",
              "\n",
              "[2566 rows x 1 columns]"
            ],
            "text/html": [
              "\n",
              "  <div id=\"df-8aa84858-1f8c-436f-bdef-1b40f5b83f5c\">\n",
              "    <div class=\"colab-df-container\">\n",
              "      <div>\n",
              "<style scoped>\n",
              "    .dataframe tbody tr th:only-of-type {\n",
              "        vertical-align: middle;\n",
              "    }\n",
              "\n",
              "    .dataframe tbody tr th {\n",
              "        vertical-align: top;\n",
              "    }\n",
              "\n",
              "    .dataframe thead th {\n",
              "        text-align: right;\n",
              "    }\n",
              "</style>\n",
              "<table border=\"1\" class=\"dataframe\">\n",
              "  <thead>\n",
              "    <tr style=\"text-align: right;\">\n",
              "      <th></th>\n",
              "      <th>Close</th>\n",
              "    </tr>\n",
              "  </thead>\n",
              "  <tbody>\n",
              "    <tr>\n",
              "      <th>2021-01-08 09:30:00-05:00</th>\n",
              "      <td>130.380005</td>\n",
              "    </tr>\n",
              "    <tr>\n",
              "      <th>2021-01-08 10:30:00-05:00</th>\n",
              "      <td>131.070007</td>\n",
              "    </tr>\n",
              "    <tr>\n",
              "      <th>2021-01-08 11:30:00-05:00</th>\n",
              "      <td>132.154999</td>\n",
              "    </tr>\n",
              "    <tr>\n",
              "      <th>2021-01-08 12:30:00-05:00</th>\n",
              "      <td>131.115005</td>\n",
              "    </tr>\n",
              "    <tr>\n",
              "      <th>2021-01-08 13:30:00-05:00</th>\n",
              "      <td>131.475006</td>\n",
              "    </tr>\n",
              "    <tr>\n",
              "      <th>...</th>\n",
              "      <td>...</td>\n",
              "    </tr>\n",
              "    <tr>\n",
              "      <th>2022-06-23 11:30:00-04:00</th>\n",
              "      <td>136.789993</td>\n",
              "    </tr>\n",
              "    <tr>\n",
              "      <th>2022-06-23 12:30:00-04:00</th>\n",
              "      <td>136.429993</td>\n",
              "    </tr>\n",
              "    <tr>\n",
              "      <th>2022-06-23 13:30:00-04:00</th>\n",
              "      <td>137.299896</td>\n",
              "    </tr>\n",
              "    <tr>\n",
              "      <th>2022-06-23 14:30:00-04:00</th>\n",
              "      <td>137.899994</td>\n",
              "    </tr>\n",
              "    <tr>\n",
              "      <th>2022-06-23 15:30:00-04:00</th>\n",
              "      <td>138.250000</td>\n",
              "    </tr>\n",
              "  </tbody>\n",
              "</table>\n",
              "<p>2566 rows × 1 columns</p>\n",
              "</div>\n",
              "      <button class=\"colab-df-convert\" onclick=\"convertToInteractive('df-8aa84858-1f8c-436f-bdef-1b40f5b83f5c')\"\n",
              "              title=\"Convert this dataframe to an interactive table.\"\n",
              "              style=\"display:none;\">\n",
              "        \n",
              "  <svg xmlns=\"http://www.w3.org/2000/svg\" height=\"24px\"viewBox=\"0 0 24 24\"\n",
              "       width=\"24px\">\n",
              "    <path d=\"M0 0h24v24H0V0z\" fill=\"none\"/>\n",
              "    <path d=\"M18.56 5.44l.94 2.06.94-2.06 2.06-.94-2.06-.94-.94-2.06-.94 2.06-2.06.94zm-11 1L8.5 8.5l.94-2.06 2.06-.94-2.06-.94L8.5 2.5l-.94 2.06-2.06.94zm10 10l.94 2.06.94-2.06 2.06-.94-2.06-.94-.94-2.06-.94 2.06-2.06.94z\"/><path d=\"M17.41 7.96l-1.37-1.37c-.4-.4-.92-.59-1.43-.59-.52 0-1.04.2-1.43.59L10.3 9.45l-7.72 7.72c-.78.78-.78 2.05 0 2.83L4 21.41c.39.39.9.59 1.41.59.51 0 1.02-.2 1.41-.59l7.78-7.78 2.81-2.81c.8-.78.8-2.07 0-2.86zM5.41 20L4 18.59l7.72-7.72 1.47 1.35L5.41 20z\"/>\n",
              "  </svg>\n",
              "      </button>\n",
              "      \n",
              "  <style>\n",
              "    .colab-df-container {\n",
              "      display:flex;\n",
              "      flex-wrap:wrap;\n",
              "      gap: 12px;\n",
              "    }\n",
              "\n",
              "    .colab-df-convert {\n",
              "      background-color: #E8F0FE;\n",
              "      border: none;\n",
              "      border-radius: 50%;\n",
              "      cursor: pointer;\n",
              "      display: none;\n",
              "      fill: #1967D2;\n",
              "      height: 32px;\n",
              "      padding: 0 0 0 0;\n",
              "      width: 32px;\n",
              "    }\n",
              "\n",
              "    .colab-df-convert:hover {\n",
              "      background-color: #E2EBFA;\n",
              "      box-shadow: 0px 1px 2px rgba(60, 64, 67, 0.3), 0px 1px 3px 1px rgba(60, 64, 67, 0.15);\n",
              "      fill: #174EA6;\n",
              "    }\n",
              "\n",
              "    [theme=dark] .colab-df-convert {\n",
              "      background-color: #3B4455;\n",
              "      fill: #D2E3FC;\n",
              "    }\n",
              "\n",
              "    [theme=dark] .colab-df-convert:hover {\n",
              "      background-color: #434B5C;\n",
              "      box-shadow: 0px 1px 3px 1px rgba(0, 0, 0, 0.15);\n",
              "      filter: drop-shadow(0px 1px 2px rgba(0, 0, 0, 0.3));\n",
              "      fill: #FFFFFF;\n",
              "    }\n",
              "  </style>\n",
              "\n",
              "      <script>\n",
              "        const buttonEl =\n",
              "          document.querySelector('#df-8aa84858-1f8c-436f-bdef-1b40f5b83f5c button.colab-df-convert');\n",
              "        buttonEl.style.display =\n",
              "          google.colab.kernel.accessAllowed ? 'block' : 'none';\n",
              "\n",
              "        async function convertToInteractive(key) {\n",
              "          const element = document.querySelector('#df-8aa84858-1f8c-436f-bdef-1b40f5b83f5c');\n",
              "          const dataTable =\n",
              "            await google.colab.kernel.invokeFunction('convertToInteractive',\n",
              "                                                     [key], {});\n",
              "          if (!dataTable) return;\n",
              "\n",
              "          const docLinkHtml = 'Like what you see? Visit the ' +\n",
              "            '<a target=\"_blank\" href=https://colab.research.google.com/notebooks/data_table.ipynb>data table notebook</a>'\n",
              "            + ' to learn more about interactive tables.';\n",
              "          element.innerHTML = '';\n",
              "          dataTable['output_type'] = 'display_data';\n",
              "          await google.colab.output.renderOutput(dataTable, element);\n",
              "          const docLink = document.createElement('div');\n",
              "          docLink.innerHTML = docLinkHtml;\n",
              "          element.appendChild(docLink);\n",
              "        }\n",
              "      </script>\n",
              "    </div>\n",
              "  </div>\n",
              "  "
            ]
          },
          "metadata": {},
          "execution_count": 9
        }
      ]
    },
    {
      "cell_type": "code",
      "source": [
        "# df_close = stock_data[['Close']]\n"
      ],
      "metadata": {
        "id": "0Viuqne_Mz4X"
      },
      "execution_count": null,
      "outputs": []
    },
    {
      "cell_type": "code",
      "source": [
        "# Determine whether a series is stationary using the Augmented Dickey Fuller (ADF) Test\n",
        "result = adfuller(df_close)\n",
        "print('ADF Statistic: %f' % result[0])\n",
        "print('p-value: %f' % result[1])\n"
      ],
      "metadata": {
        "colab": {
          "base_uri": "https://localhost:8080/"
        },
        "id": "RA_4Ot7mM451",
        "outputId": "4b7398d8-e2b3-49ea-830b-40447ced8f50"
      },
      "execution_count": null,
      "outputs": [
        {
          "output_type": "stream",
          "name": "stdout",
          "text": [
            "ADF Statistic: -1.637653\n",
            "p-value: 0.463488\n"
          ]
        }
      ]
    },
    {
      "cell_type": "code",
      "source": [
        "train_data, test_data = df_close[:int(len(df_close)*0.9)], df_close[int(len(df_close)*0.9):]\n"
      ],
      "metadata": {
        "id": "KWpQHXpKNDnd"
      },
      "execution_count": null,
      "outputs": []
    },
    {
      "cell_type": "code",
      "source": [
        "# Use Auto ARIMA to find the best p,d,q parameters\n",
        "model_autoARIMA = pm.auto_arima(train_data, start_p=0, start_q=0,\n",
        "                      test='adf',       # use adftest to find optimal 'd'\n",
        "                      max_p=3, max_q=3, # maximum p and q\n",
        "                      m=1,              # frequency of series\n",
        "                      d=None,           # let model determine 'd'\n",
        "                      seasonal=False,   # No Seasonality\n",
        "                      start_P=0, \n",
        "                      D=0, \n",
        "                      trace=True,\n",
        "                      error_action='ignore',  \n",
        "                      suppress_warnings=True, \n",
        "                      stepwise=True)\n",
        "print(model_autoARIMA.summary())\n"
      ],
      "metadata": {
        "colab": {
          "base_uri": "https://localhost:8080/"
        },
        "id": "GADl_613Ot2o",
        "outputId": "c3b80ecf-d054-4c18-8e3b-65e1351466df"
      },
      "execution_count": null,
      "outputs": [
        {
          "output_type": "stream",
          "name": "stdout",
          "text": [
            "Performing stepwise search to minimize aic\n",
            " ARIMA(0,1,0)(0,0,0)[0] intercept   : AIC=6228.746, Time=0.44 sec\n",
            " ARIMA(1,1,0)(0,0,0)[0] intercept   : AIC=6230.340, Time=0.14 sec\n",
            " ARIMA(0,1,1)(0,0,0)[0] intercept   : AIC=6230.338, Time=0.37 sec\n",
            " ARIMA(0,1,0)(0,0,0)[0]             : AIC=6227.078, Time=0.08 sec\n",
            " ARIMA(1,1,1)(0,0,0)[0] intercept   : AIC=6232.364, Time=0.38 sec\n",
            "\n",
            "Best model:  ARIMA(0,1,0)(0,0,0)[0]          \n",
            "Total fit time: 1.448 seconds\n",
            "                               SARIMAX Results                                \n",
            "==============================================================================\n",
            "Dep. Variable:                      y   No. Observations:                 2310\n",
            "Model:               SARIMAX(0, 1, 0)   Log Likelihood               -3112.539\n",
            "Date:                Fri, 24 Jun 2022   AIC                           6227.078\n",
            "Time:                        07:22:43   BIC                           6232.823\n",
            "Sample:                             0   HQIC                          6229.172\n",
            "                               - 2310                                         \n",
            "Covariance Type:                  opg                                         \n",
            "==============================================================================\n",
            "                 coef    std err          z      P>|z|      [0.025      0.975]\n",
            "------------------------------------------------------------------------------\n",
            "sigma2         0.8677      0.013     68.674      0.000       0.843       0.892\n",
            "===================================================================================\n",
            "Ljung-Box (L1) (Q):                   0.41   Jarque-Bera (JB):              3668.39\n",
            "Prob(Q):                              0.52   Prob(JB):                         0.00\n",
            "Heteroskedasticity (H):               2.02   Skew:                             0.20\n",
            "Prob(H) (two-sided):                  0.00   Kurtosis:                         9.16\n",
            "===================================================================================\n",
            "\n",
            "Warnings:\n",
            "[1] Covariance matrix calculated using the outer product of gradients (complex-step).\n"
          ]
        }
      ]
    },
    {
      "cell_type": "code",
      "source": [
        "# Extract best arima parameters\n",
        "best_parameters = model_autoARIMA.get_params().get(\"order\")\n",
        "best_parameters"
      ],
      "metadata": {
        "colab": {
          "base_uri": "https://localhost:8080/"
        },
        "id": "lrB-Nud_psax",
        "outputId": "54a50ae7-9e45-474b-c57d-646cf36474bc"
      },
      "execution_count": null,
      "outputs": [
        {
          "output_type": "execute_result",
          "data": {
            "text/plain": [
              "(0, 1, 0)"
            ]
          },
          "metadata": {},
          "execution_count": 20
        }
      ]
    },
    {
      "cell_type": "code",
      "source": [
        "# Build Model\n",
        "model = ARIMA(train_data, order=best_parameters)  \n",
        "fitted = model.fit()  \n",
        "print(fitted.summary())"
      ],
      "metadata": {
        "colab": {
          "base_uri": "https://localhost:8080/"
        },
        "id": "cLSALOx0m2MB",
        "outputId": "16e9dd97-8af4-484f-dff3-265f74f97747"
      },
      "execution_count": null,
      "outputs": [
        {
          "output_type": "stream",
          "name": "stdout",
          "text": [
            "                               SARIMAX Results                                \n",
            "==============================================================================\n",
            "Dep. Variable:                  Close   No. Observations:                 2310\n",
            "Model:                 ARIMA(0, 1, 0)   Log Likelihood               -3112.539\n",
            "Date:                Fri, 24 Jun 2022   AIC                           6227.078\n",
            "Time:                        07:42:33   BIC                           6232.823\n",
            "Sample:                             0   HQIC                          6229.172\n",
            "                               - 2310                                         \n",
            "Covariance Type:                  opg                                         \n",
            "==============================================================================\n",
            "                 coef    std err          z      P>|z|      [0.025      0.975]\n",
            "------------------------------------------------------------------------------\n",
            "sigma2         0.8677      0.013     68.674      0.000       0.843       0.892\n",
            "===================================================================================\n",
            "Ljung-Box (L1) (Q):                   0.41   Jarque-Bera (JB):              3668.39\n",
            "Prob(Q):                              0.52   Prob(JB):                         0.00\n",
            "Heteroskedasticity (H):               2.02   Skew:                             0.20\n",
            "Prob(H) (two-sided):                  0.00   Kurtosis:                         9.16\n",
            "===================================================================================\n",
            "\n",
            "Warnings:\n",
            "[1] Covariance matrix calculated using the outer product of gradients (complex-step).\n"
          ]
        },
        {
          "output_type": "stream",
          "name": "stderr",
          "text": [
            "/usr/local/lib/python3.7/dist-packages/statsmodels/tsa/base/tsa_model.py:471: ValueWarning: A date index has been provided, but it has no associated frequency information and so will be ignored when e.g. forecasting.\n",
            "  self._init_dates(dates, freq)\n",
            "/usr/local/lib/python3.7/dist-packages/statsmodels/tsa/base/tsa_model.py:471: ValueWarning: A date index has been provided, but it has no associated frequency information and so will be ignored when e.g. forecasting.\n",
            "  self._init_dates(dates, freq)\n",
            "/usr/local/lib/python3.7/dist-packages/statsmodels/tsa/base/tsa_model.py:471: ValueWarning: A date index has been provided, but it has no associated frequency information and so will be ignored when e.g. forecasting.\n",
            "  self._init_dates(dates, freq)\n"
          ]
        }
      ]
    },
    {
      "cell_type": "code",
      "source": [
        "# Construct the forecasts\n",
        "fcast = fitted.get_forecast(len(test_data)).summary_frame()\n",
        "fcast.index = test_data.index\n"
      ],
      "metadata": {
        "colab": {
          "base_uri": "https://localhost:8080/"
        },
        "id": "7oeGqMc7Rvra",
        "outputId": "aa1734a6-a51e-4ed9-e6ff-170b6fb8e7e4"
      },
      "execution_count": null,
      "outputs": [
        {
          "output_type": "stream",
          "name": "stderr",
          "text": [
            "/usr/local/lib/python3.7/dist-packages/statsmodels/tsa/base/tsa_model.py:843: ValueWarning: No supported index is available. Prediction results will be given with an integer index beginning at `start`.\n",
            "  data=self.data,\n"
          ]
        }
      ]
    },
    {
      "cell_type": "code",
      "source": [
        "\n",
        "# Plot\n",
        "plt.figure(figsize=(12,5), dpi=100)\n",
        "plt.plot(train_data, label='training')\n",
        "plt.plot(test_data, label='actual')\n",
        "plt.plot(fcast['mean'])\n",
        "\n",
        "plt.fill_between(fcast.index, fcast['mean_ci_lower'], fcast['mean_ci_upper'], color='k', alpha=0.1)\n",
        "\n",
        "plt.title('Forecast vs Actuals')\n",
        "plt.legend(loc='upper left', fontsize=8)\n",
        "plt.show()"
      ],
      "metadata": {
        "colab": {
          "base_uri": "https://localhost:8080/",
          "height": 460
        },
        "id": "ZGG6cfa1R2bj",
        "outputId": "88a5ea47-ef4b-4f43-ad6b-f1d547d644d5"
      },
      "execution_count": null,
      "outputs": [
        {
          "output_type": "display_data",
          "data": {
            "text/plain": [
              "<Figure size 1200x500 with 1 Axes>"
            ],
            "image/png": "[encoded data removed]"
          },
          "metadata": {
            "needs_background": "light"
          }
        }
      ]
    },
    {
      "cell_type": "code",
      "source": [
        "forecast = fitted.forecast(len(test_data))\n",
        "forecast"
      ],
      "metadata": {
        "colab": {
          "base_uri": "https://localhost:8080/"
        },
        "id": "Y3vDocbCqskT",
        "outputId": "3ceb508c-2c5f-483e-c032-f68fc27ee2c6"
      },
      "execution_count": null,
      "outputs": [
        {
          "output_type": "stream",
          "name": "stderr",
          "text": [
            "/usr/local/lib/python3.7/dist-packages/statsmodels/tsa/base/tsa_model.py:843: ValueWarning: No supported index is available. Prediction results will be given with an integer index beginning at `start`.\n",
            "  data=self.data,\n"
          ]
        },
        {
          "output_type": "execute_result",
          "data": {
            "text/plain": [
              "2310    156.175507\n",
              "2311    156.175507\n",
              "2312    156.175507\n",
              "2313    156.175507\n",
              "2314    156.175507\n",
              "           ...    \n",
              "2562    156.175507\n",
              "2563    156.175507\n",
              "2564    156.175507\n",
              "2565    156.175507\n",
              "2566    156.175507\n",
              "Name: predicted_mean, Length: 257, dtype: float64"
            ]
          },
          "metadata": {},
          "execution_count": 24
        }
      ]
    },
    {
      "cell_type": "code",
      "source": [
        ""
      ],
      "metadata": {
        "id": "aq05tJQLpEK-"
      },
      "execution_count": null,
      "outputs": []
    },
    {
      "cell_type": "code",
      "source": [
        ""
      ],
      "metadata": {
        "id": "t15R1fTmpEJK"
      },
      "execution_count": null,
      "outputs": []
    },
    {
      "cell_type": "code",
      "source": [
        ""
      ],
      "metadata": {
        "id": "qZFpifrDpEHl"
      },
      "execution_count": null,
      "outputs": []
    },
    {
      "cell_type": "code",
      "source": [
        ""
      ],
      "metadata": {
        "id": "gXaikZCNpEFi"
      },
      "execution_count": null,
      "outputs": []
    },
    {
      "cell_type": "code",
      "source": [
        "import pandas as pd\n",
        "import matplotlib.pyplot as plt\n",
        "from statsmodels.tsa.stattools import adfuller\n",
        "from statsmodels.tsa.arima.model import ARIMA\n",
        "import pmdarima as pm\n",
        "import yfinance as yf\n",
        "import datetime as dt\n",
        "\n",
        "\n",
        "def getdata():\n",
        "  #Set the cryptocurrency tickers to get the data\n",
        "  ticker = 'AAPL'\n",
        "\n",
        "  #Define the start and end date for the historical data   \n",
        "  today = dt.datetime.now()\n",
        "  start = dt.date(today.year-1, today.month-5, today.day-16)\n",
        "  end = dt.date(today.year, today.month, today.day)\n",
        "\n",
        "  #Fetch bitcoin data using yfinance download function.\n",
        "  df_close = yf.download(tickers=ticker, start=start, end=end, interval='1h',)[['Close']]\n",
        "\n",
        "  return df_close\n",
        "\n",
        "df_close = getdata()\n",
        "train_data, test_data = df_close[:int(len(df_close)*0.9)], df_close[int(len(df_close)*0.9):]\n",
        "\n",
        "def auto_arima(train_data=train_data):\n",
        "  model_autoARIMA = pm.auto_arima(train_data, start_p=0, start_q=0,\n",
        "                      test='adf',       # use adftest to find optimal 'd'\n",
        "                      max_p=3, max_q=3, # maximum p and q\n",
        "                      m=1,              # frequency of series\n",
        "                      d=None,           # let model determine 'd'\n",
        "                      seasonal=False,   # No Seasonality\n",
        "                      start_P=0, \n",
        "                      D=0, \n",
        "                      trace=True,\n",
        "                      error_action='ignore',  \n",
        "                      suppress_warnings=True, \n",
        "                      stepwise=True)\n",
        "  best_parameters = model_autoARIMA.get_params().get(\"order\")\n",
        "  return best_parameters\n",
        "\n",
        "best_parameters = arima_model()\n",
        "\n",
        "def build_model_and_forcast(train_data=train_data):\n",
        "  #build model\n",
        "  model = ARIMA(train_data, order=best_parameters)  \n",
        "  #fit the model\n",
        "  fitted = model.fit()\n",
        "  #make a forecast\n",
        "  forecast = fitted.forecast(len(test_data))\n",
        "  print(forecast)\n",
        "  return forecast\n",
        "\n",
        "\n",
        "def run(request):\n",
        "  build_model_and_forcast()\n",
        "\n",
        "\n"
      ],
      "metadata": {
        "id": "_rttbEnxpEDK"
      },
      "execution_count": null,
      "outputs": []
    },
    {
      "cell_type": "code",
      "source": [
        "import pandas as pd\n",
        "import matplotlib.pyplot as plt\n",
        "from statsmodels.tsa.stattools import adfuller\n",
        "from statsmodels.tsa.arima.model import ARIMA\n",
        "import pmdarima as pm\n",
        "import yfinance as yf\n",
        "import datetime as dt\n",
        "\n",
        "\n",
        "def getdata():\n",
        "  #Set the cryptocurrency tickers to get the data\n",
        "  ticker = 'AAPL'\n",
        "\n",
        "  #Define the start and end date for the historical data   \n",
        "  today = dt.datetime.now()\n",
        "  start = dt.date(today.year-1, today.month-5, today.day-16)\n",
        "  end = dt.date(today.year, today.month, today.day)\n",
        "\n",
        "  #Fetch bitcoin data using yfinance download function.\n",
        "  df_close = yf.download(tickers=ticker, start=start, end=end, interval='1h',)[['Close']]\n",
        "  return df_close\n",
        "\n"
      ],
      "metadata": {
        "id": "HecvBOCIqrpz"
      },
      "execution_count": null,
      "outputs": []
    },
    {
      "cell_type": "code",
      "source": [
        "lose = getdata()\n",
        "lose"
      ],
      "metadata": {
        "colab": {
          "base_uri": "https://localhost:8080/",
          "height": 442
        },
        "id": "GI-QTPhhqcMC",
        "outputId": "fa4c7e34-c74c-456a-be77-196df8e992f7"
      },
      "execution_count": null,
      "outputs": [
        {
          "output_type": "stream",
          "name": "stdout",
          "text": [
            "\r[*********************100%***********************]  1 of 1 completed\n"
          ]
        },
        {
          "output_type": "execute_result",
          "data": {
            "text/plain": [
              "                                Close\n",
              "2021-01-08 09:30:00-05:00  130.380005\n",
              "2021-01-08 10:30:00-05:00  131.070007\n",
              "2021-01-08 11:30:00-05:00  132.154999\n",
              "2021-01-08 12:30:00-05:00  131.115005\n",
              "2021-01-08 13:30:00-05:00  131.475006\n",
              "...                               ...\n",
              "2022-06-23 11:30:00-04:00  136.789993\n",
              "2022-06-23 12:30:00-04:00  136.429993\n",
              "2022-06-23 13:30:00-04:00  137.299896\n",
              "2022-06-23 14:30:00-04:00  137.899994\n",
              "2022-06-23 15:30:00-04:00  138.250000\n",
              "\n",
              "[2566 rows x 1 columns]"
            ],
            "text/html": [
              "\n",
              "  <div id=\"df-5632dc92-4e4f-489f-b9a1-be5e5fcd81bf\">\n",
              "    <div class=\"colab-df-container\">\n",
              "      <div>\n",
              "<style scoped>\n",
              "    .dataframe tbody tr th:only-of-type {\n",
              "        vertical-align: middle;\n",
              "    }\n",
              "\n",
              "    .dataframe tbody tr th {\n",
              "        vertical-align: top;\n",
              "    }\n",
              "\n",
              "    .dataframe thead th {\n",
              "        text-align: right;\n",
              "    }\n",
              "</style>\n",
              "<table border=\"1\" class=\"dataframe\">\n",
              "  <thead>\n",
              "    <tr style=\"text-align: right;\">\n",
              "      <th></th>\n",
              "      <th>Close</th>\n",
              "    </tr>\n",
              "  </thead>\n",
              "  <tbody>\n",
              "    <tr>\n",
              "      <th>2021-01-08 09:30:00-05:00</th>\n",
              "      <td>130.380005</td>\n",
              "    </tr>\n",
              "    <tr>\n",
              "      <th>2021-01-08 10:30:00-05:00</th>\n",
              "      <td>131.070007</td>\n",
              "    </tr>\n",
              "    <tr>\n",
              "      <th>2021-01-08 11:30:00-05:00</th>\n",
              "      <td>132.154999</td>\n",
              "    </tr>\n",
              "    <tr>\n",
              "      <th>2021-01-08 12:30:00-05:00</th>\n",
              "      <td>131.115005</td>\n",
              "    </tr>\n",
              "    <tr>\n",
              "      <th>2021-01-08 13:30:00-05:00</th>\n",
              "      <td>131.475006</td>\n",
              "    </tr>\n",
              "    <tr>\n",
              "      <th>...</th>\n",
              "      <td>...</td>\n",
              "    </tr>\n",
              "    <tr>\n",
              "      <th>2022-06-23 11:30:00-04:00</th>\n",
              "      <td>136.789993</td>\n",
              "    </tr>\n",
              "    <tr>\n",
              "      <th>2022-06-23 12:30:00-04:00</th>\n",
              "      <td>136.429993</td>\n",
              "    </tr>\n",
              "    <tr>\n",
              "      <th>2022-06-23 13:30:00-04:00</th>\n",
              "      <td>137.299896</td>\n",
              "    </tr>\n",
              "    <tr>\n",
              "      <th>2022-06-23 14:30:00-04:00</th>\n",
              "      <td>137.899994</td>\n",
              "    </tr>\n",
              "    <tr>\n",
              "      <th>2022-06-23 15:30:00-04:00</th>\n",
              "      <td>138.250000</td>\n",
              "    </tr>\n",
              "  </tbody>\n",
              "</table>\n",
              "<p>2566 rows × 1 columns</p>\n",
              "</div>\n",
              "      <button class=\"colab-df-convert\" onclick=\"convertToInteractive('df-5632dc92-4e4f-489f-b9a1-be5e5fcd81bf')\"\n",
              "              title=\"Convert this dataframe to an interactive table.\"\n",
              "              style=\"display:none;\">\n",
              "        \n",
              "  <svg xmlns=\"http://www.w3.org/2000/svg\" height=\"24px\"viewBox=\"0 0 24 24\"\n",
              "       width=\"24px\">\n",
              "    <path d=\"M0 0h24v24H0V0z\" fill=\"none\"/>\n",
              "    <path d=\"M18.56 5.44l.94 2.06.94-2.06 2.06-.94-2.06-.94-.94-2.06-.94 2.06-2.06.94zm-11 1L8.5 8.5l.94-2.06 2.06-.94-2.06-.94L8.5 2.5l-.94 2.06-2.06.94zm10 10l.94 2.06.94-2.06 2.06-.94-2.06-.94-.94-2.06-.94 2.06-2.06.94z\"/><path d=\"M17.41 7.96l-1.37-1.37c-.4-.4-.92-.59-1.43-.59-.52 0-1.04.2-1.43.59L10.3 9.45l-7.72 7.72c-.78.78-.78 2.05 0 2.83L4 21.41c.39.39.9.59 1.41.59.51 0 1.02-.2 1.41-.59l7.78-7.78 2.81-2.81c.8-.78.8-2.07 0-2.86zM5.41 20L4 18.59l7.72-7.72 1.47 1.35L5.41 20z\"/>\n",
              "  </svg>\n",
              "      </button>\n",
              "      \n",
              "  <style>\n",
              "    .colab-df-container {\n",
              "      display:flex;\n",
              "      flex-wrap:wrap;\n",
              "      gap: 12px;\n",
              "    }\n",
              "\n",
              "    .colab-df-convert {\n",
              "      background-color: #E8F0FE;\n",
              "      border: none;\n",
              "      border-radius: 50%;\n",
              "      cursor: pointer;\n",
              "      display: none;\n",
              "      fill: #1967D2;\n",
              "      height: 32px;\n",
              "      padding: 0 0 0 0;\n",
              "      width: 32px;\n",
              "    }\n",
              "\n",
              "    .colab-df-convert:hover {\n",
              "      background-color: #E2EBFA;\n",
              "      box-shadow: 0px 1px 2px rgba(60, 64, 67, 0.3), 0px 1px 3px 1px rgba(60, 64, 67, 0.15);\n",
              "      fill: #174EA6;\n",
              "    }\n",
              "\n",
              "    [theme=dark] .colab-df-convert {\n",
              "      background-color: #3B4455;\n",
              "      fill: #D2E3FC;\n",
              "    }\n",
              "\n",
              "    [theme=dark] .colab-df-convert:hover {\n",
              "      background-color: #434B5C;\n",
              "      box-shadow: 0px 1px 3px 1px rgba(0, 0, 0, 0.15);\n",
              "      filter: drop-shadow(0px 1px 2px rgba(0, 0, 0, 0.3));\n",
              "      fill: #FFFFFF;\n",
              "    }\n",
              "  </style>\n",
              "\n",
              "      <script>\n",
              "        const buttonEl =\n",
              "          document.querySelector('#df-5632dc92-4e4f-489f-b9a1-be5e5fcd81bf button.colab-df-convert');\n",
              "        buttonEl.style.display =\n",
              "          google.colab.kernel.accessAllowed ? 'block' : 'none';\n",
              "\n",
              "        async function convertToInteractive(key) {\n",
              "          const element = document.querySelector('#df-5632dc92-4e4f-489f-b9a1-be5e5fcd81bf');\n",
              "          const dataTable =\n",
              "            await google.colab.kernel.invokeFunction('convertToInteractive',\n",
              "                                                     [key], {});\n",
              "          if (!dataTable) return;\n",
              "\n",
              "          const docLinkHtml = 'Like what you see? Visit the ' +\n",
              "            '<a target=\"_blank\" href=https://colab.research.google.com/notebooks/data_table.ipynb>data table notebook</a>'\n",
              "            + ' to learn more about interactive tables.';\n",
              "          element.innerHTML = '';\n",
              "          dataTable['output_type'] = 'display_data';\n",
              "          await google.colab.output.renderOutput(dataTable, element);\n",
              "          const docLink = document.createElement('div');\n",
              "          docLink.innerHTML = docLinkHtml;\n",
              "          element.appendChild(docLink);\n",
              "        }\n",
              "      </script>\n",
              "    </div>\n",
              "  </div>\n",
              "  "
            ]
          },
          "metadata": {},
          "execution_count": 29
        }
      ]
    },
    {
      "cell_type": "markdown",
      "source": [
        "pmdarima  \n",
        "yfinance  \n",
        "pandas  \n",
        "matplotlib  \n"
      ],
      "metadata": {
        "id": "w01n5Y_3pHpA"
      }
    }
  ]
}